{
 "cells": [
  {
   "cell_type": "markdown",
   "metadata": {},
   "source": [
    "# Conditional Statements (if, elif, else)"
   ]
  },
  {
   "cell_type": "markdown",
   "metadata": {},
   "source": [
    "## if :\n",
    "### ' if ' statement evaluates a condition and executes the block of code within it if the condition is true"
   ]
  },
  {
   "cell_type": "code",
   "execution_count": 1,
   "metadata": {},
   "outputs": [
    {
     "name": "stdout",
     "output_type": "stream",
     "text": [
      "You are allowd to vote in the election!\n"
     ]
    },
    {
     "data": {
      "text/plain": [
       "True"
      ]
     },
     "execution_count": 1,
     "metadata": {},
     "output_type": "execute_result"
    }
   ],
   "source": [
    "age =20\n",
    "if age>=20:\n",
    "    print(\"You are allowd to vote in the election!\")\n",
    "\n",
    "age>=18"
   ]
  },
  {
   "cell_type": "markdown",
   "metadata": {},
   "source": [
    "## else:\n",
    "### The ' else ' statement executes a block of code if the condition in the if statement is false."
   ]
  },
  {
   "cell_type": "code",
   "execution_count": 2,
   "metadata": {},
   "outputs": [
    {
     "name": "stdout",
     "output_type": "stream",
     "text": [
      "You are a minor!\n"
     ]
    }
   ],
   "source": [
    "age = 16\n",
    "\n",
    "if age>=20:\n",
    "    print(\"You are allowd to vote in the election!\")\n",
    "else:\n",
    "    print(\"You are a minor!\")\n"
   ]
  },
  {
   "cell_type": "markdown",
   "metadata": {},
   "source": [
    "## elif:\n",
    "## 'elif ' statement allows you to check multiple condition. It stands for \"else if\""
   ]
  },
  {
   "cell_type": "code",
   "execution_count": 3,
   "metadata": {},
   "outputs": [
    {
     "name": "stdout",
     "output_type": "stream",
     "text": [
      "You are a teenager!\n"
     ]
    }
   ],
   "source": [
    "age = 17\n",
    "\n",
    "if age<13:\n",
    "    print(\"You are a child!\")\n",
    "elif age<18:\n",
    "    print(\"You are a teenager!\")\n",
    "else:\n",
    "    print(\"You are an adult!\")"
   ]
  },
  {
   "cell_type": "markdown",
   "metadata": {},
   "source": [
    "# Nested Conditional Statements"
   ]
  },
  {
   "cell_type": "code",
   "execution_count": 6,
   "metadata": {},
   "outputs": [
    {
     "name": "stdout",
     "output_type": "stream",
     "text": [
      "The number is positive!\n",
      "The number is odd!\n"
     ]
    }
   ],
   "source": [
    "# To find even,odd or negative of an input number\n",
    "\n",
    "num = int(input(\"Enter the number: \"))\n",
    "\n",
    "if num>0:\n",
    "    print(\"The number is positive!\")\n",
    "    if num%2==0:\n",
    "        print(\"The number is even!\")\n",
    "    else:\n",
    "        print(\"The number is odd!\")\n",
    "elif num==0:\n",
    "    print(\"The nummber is zero!\")\n",
    "else:\n",
    "    print(\"The number is negative!\")\n",
    "    "
   ]
  },
  {
   "cell_type": "markdown",
   "metadata": {},
   "source": [
    "### Practical example to check whether a year is a leap year or not using nested if else\n",
    "Determine if a year is a leap year using nested conditional statement. We usually think that a leap year will be divisible by 4, but apart from this, there are other conditions to do this checking. A year will be a leap year only if:\n",
    "\n",
    "•It is divisible by 4 and not divisible by 100\n",
    "\n",
    "•It is divisible by 400\n",
    "\n",
    "To check whether the given year is a leap year or not, we will have to check whether the value is divisible by 4 or not. If it is divisible by 4, we must check whether that value is divisible by 100.It will be a leap year only if it is divisible by 4 and not divisible by 100. If the previous condition is not satisfied, we check whether the value is divisible by 400. If any one of the given conditions is true for the value, the year will be a leap year otherwise, it will not be a leap year."
   ]
  },
  {
   "cell_type": "code",
   "execution_count": 8,
   "metadata": {},
   "outputs": [
    {
     "name": "stdout",
     "output_type": "stream",
     "text": [
      "2024 is not a leap year!\n"
     ]
    }
   ],
   "source": [
    "year = int(input(\"Enter year: \"))\n",
    "\n",
    "if year%4==0:\n",
    "    if year%100!=0:\n",
    "        if year%400==0:\n",
    "            print(year,\"is a leap year!\")\n",
    "        else:\n",
    "            print(year,\"is not a leap year!\")\n",
    "    else:\n",
    "        print(year, \"is not a leap year!!\")\n",
    "else:\n",
    "    print(year,\"is not a leap year!!!\")"
   ]
  },
  {
   "cell_type": "markdown",
   "metadata": {},
   "source": [
    "### Practical example of a simple calculator using conditionals"
   ]
  },
  {
   "cell_type": "code",
   "execution_count": 20,
   "metadata": {},
   "outputs": [
    {
     "name": "stdout",
     "output_type": "stream",
     "text": [
      "123.0 ** 0.0 : 1.0\n"
     ]
    }
   ],
   "source": [
    "a = float(input(\"Enter first number: \"))\n",
    "b = float(input(\"Enter second number: \"))\n",
    "\n",
    "operator = input(\"Enter operator (+ or - or / or * or ** or //): \")\n",
    "\n",
    "if operator=='+':\n",
    "    print(f\"{a} + {b} :\",a+b)\n",
    "elif operator=='-':\n",
    "    print(f\"{a} - {b} :\",a-b)\n",
    "elif operator=='*':\n",
    "    print(f\"{a} * {b} :\",a*b)\n",
    "elif operator=='/':\n",
    "    if b!=0:\n",
    "        print(f\"{a} / {b} :\",a/b)\n",
    "    else:\n",
    "        print(\"Error! Division by zero...\")\n",
    "elif operator=='//':\n",
    "    if b!=0:\n",
    "        print(f\"{a} // {b} :\",a//b)\n",
    "    else:\n",
    "        print(\"Error! Division by zero...\")\n",
    "elif operator=='**':\n",
    "    print(f\"{a} ** {b} :\",a**b)\n",
    "\n",
    "else:\n",
    "    print(\"Please enter valid operator by re-running the program!!!!!\")\n",
    "\n"
   ]
  },
  {
   "cell_type": "markdown",
   "metadata": {},
   "source": [
    "### Practical example of determining the ticket price based on age and whether a person is a student"
   ]
  },
  {
   "cell_type": "code",
   "execution_count": null,
   "metadata": {},
   "outputs": [],
   "source": [
    "# Take user input\n",
    "age = int(input(\"Enter age: \"))\n",
    "is_student = input(\"Are you a student? [enter only y/n]: \").lower()\n",
    "\n",
    "# Determine Ticket price\n",
    "if age<5:\n",
    "    price = \"Free\"\n",
    "elif age<=12:\n",
    "    price = \"$10\"\n",
    "elif age<=17:\n",
    "    if is_student == 'y':\n",
    "        price = \"$12\"\n",
    "    else:\n",
    "        price = \"$15\"\n",
    "elif age<=64:\n",
    "    if is_student == 'y':\n",
    "        price = \"$18\"\n",
    "    else:\n",
    "        price = \"$25\"\n",
    "else:\n",
    "    price = \"$20\"\n",
    "\n",
    "print(\"Ticket price: \", price)\n"
   ]
  }
 ],
 "metadata": {
  "kernelspec": {
   "display_name": "base",
   "language": "python",
   "name": "python3"
  },
  "language_info": {
   "codemirror_mode": {
    "name": "ipython",
    "version": 3
   },
   "file_extension": ".py",
   "mimetype": "text/x-python",
   "name": "python",
   "nbconvert_exporter": "python",
   "pygments_lexer": "ipython3",
   "version": "3.12.3"
  }
 },
 "nbformat": 4,
 "nbformat_minor": 2
}
