{
 "cells": [
  {
   "cell_type": "markdown",
   "metadata": {},
   "source": [
    "# Dictionaries"
   ]
  },
  {
   "cell_type": "markdown",
   "metadata": {},
   "source": [
    "## Are unordered collection of items. They store data in key-value pairs. Keys must be unique and immutable (e.g. strings, numbers, or tuples), while values can be of any type."
   ]
  },
  {
   "cell_type": "code",
   "execution_count": 2,
   "metadata": {},
   "outputs": [
    {
     "name": "stdout",
     "output_type": "stream",
     "text": [
      "{'name': 'Aditi', 'age': 18, 'Course': 'B.Tech', 'Branch': 'CSE'}\n",
      "<class 'dict'>\n"
     ]
    }
   ],
   "source": [
    "student = {\"name\":\"Aditi\",\"age\":18,\"Course\":\"B.Tech\",\"Branch\":\"CSE\"}\n",
    "print(student)\n",
    "print(type(student))"
   ]
  },
  {
   "cell_type": "code",
   "execution_count": 3,
   "metadata": {},
   "outputs": [
    {
     "name": "stdout",
     "output_type": "stream",
     "text": [
      "{'name': 24, 'age': 18}\n"
     ]
    }
   ],
   "source": [
    "# Key should be unique\n",
    "student = {\"name\":\"Aditi\",\"age\":18,\"name\":24}\n",
    "print(student)"
   ]
  },
  {
   "cell_type": "markdown",
   "metadata": {},
   "source": [
    "# accessing dictionary elements"
   ]
  },
  {
   "cell_type": "code",
   "execution_count": 15,
   "metadata": {},
   "outputs": [
    {
     "name": "stdout",
     "output_type": "stream",
     "text": [
      "A\n"
     ]
    }
   ],
   "source": [
    "# Method 01\n",
    "# Key should be unique\n",
    "student = {\"name\":\"Aditi\",\"age\":18,\"grade\":\"A\"}\n",
    "print(student['grade'])"
   ]
  },
  {
   "cell_type": "code",
   "execution_count": 16,
   "metadata": {},
   "outputs": [
    {
     "name": "stdout",
     "output_type": "stream",
     "text": [
      "A\n",
      "None\n",
      "Not Availaible\n"
     ]
    }
   ],
   "source": [
    "## Accessing using get() method\n",
    "print(student.get('grade'))\n",
    "print(student.get('last_name'))   #--> Key 'last_name' not present in dictionary 'student' but will not give error\n",
    "\n",
    "print(student.get('last_name',\"Not Availaible\"))  \n",
    "#--> Key 'last_name' not present in dictionary but assigned a default value to it!!!!"
   ]
  },
  {
   "cell_type": "markdown",
   "metadata": {},
   "source": [
    "# Modifying Dictionary elements"
   ]
  },
  {
   "cell_type": "markdown",
   "metadata": {},
   "source": [
    "### Dictionaries are mutable, so we can add, update or delete elements"
   ]
  },
  {
   "cell_type": "code",
   "execution_count": 17,
   "metadata": {},
   "outputs": [
    {
     "name": "stdout",
     "output_type": "stream",
     "text": [
      "{'name': 'Aditi', 'age': 18, 'grade': 'A'}\n",
      "{'name': 'Aditi', 'age': 18, 'grade': 'A', 'Address': 'India'}\n"
     ]
    }
   ],
   "source": [
    "# Adding\n",
    "print(student)\n",
    "\n",
    "student[\"Address\"]=\"India\"\n",
    "print(student)"
   ]
  },
  {
   "cell_type": "code",
   "execution_count": 18,
   "metadata": {},
   "outputs": [
    {
     "name": "stdout",
     "output_type": "stream",
     "text": [
      "{'name': 'Aditi', 'age': 18, 'grade': 'A', 'Address': 'India'}\n",
      "{'name': 'Aditi', 'age': 18, 'grade': 'A', 'Address': 'Bharat'}\n"
     ]
    }
   ],
   "source": [
    "# Updating\n",
    "print(student)\n",
    "\n",
    "student[\"Address\"]='Bharat'\n",
    "print(student)"
   ]
  },
  {
   "cell_type": "code",
   "execution_count": 19,
   "metadata": {},
   "outputs": [
    {
     "name": "stdout",
     "output_type": "stream",
     "text": [
      "{'name': 'Aditi', 'age': 18, 'grade': 'A', 'Address': 'Bharat'}\n",
      "{'name': 'Aditi', 'age': 18, 'Address': 'Bharat'}\n"
     ]
    }
   ],
   "source": [
    "# Delete dictionary\n",
    "print(student)\n",
    "del student['grade']  ## deletes the key and value pair\n",
    "print(student)"
   ]
  },
  {
   "cell_type": "markdown",
   "metadata": {},
   "source": [
    "# Dictionary Methods"
   ]
  },
  {
   "cell_type": "code",
   "execution_count": 24,
   "metadata": {},
   "outputs": [
    {
     "name": "stdout",
     "output_type": "stream",
     "text": [
      "dict_keys(['name', 'age', 'Address'])\n",
      "dict_values(['Aditi', 18, 'Bharat'])\n",
      "dict_items([('name', 'Aditi'), ('age', 18), ('Address', 'Bharat')])\n"
     ]
    }
   ],
   "source": [
    "keys = student.keys()    # get all the keys\n",
    "print(keys)\n",
    "\n",
    "values = student.values()  # get all the values\n",
    "print(values)\n",
    "\n",
    "items = student.items()  # get all the key-value pairs\n",
    "print(items)\n"
   ]
  },
  {
   "cell_type": "markdown",
   "metadata": {},
   "source": [
    "# Shallow copy"
   ]
  },
  {
   "cell_type": "code",
   "execution_count": 27,
   "metadata": {},
   "outputs": [
    {
     "name": "stdout",
     "output_type": "stream",
     "text": [
      "{'name': 'Aditi', 'age': 18, 'Address': 'Bharat'}\n",
      "{'name': 'Aditi', 'age': 18, 'Address': 'Bharat'}\n"
     ]
    }
   ],
   "source": [
    "student = {'name': 'Aditi', 'age': 18, 'Address': 'Bharat'}\n",
    "\n",
    "student_copy = student\n",
    "print(student)\n",
    "print(student_copy)"
   ]
  },
  {
   "cell_type": "code",
   "execution_count": 28,
   "metadata": {},
   "outputs": [
    {
     "name": "stdout",
     "output_type": "stream",
     "text": [
      "{'name': 'Aditi2', 'age': 18, 'Address': 'Bharat'}\n",
      "{'name': 'Aditi2', 'age': 18, 'Address': 'Bharat'}\n"
     ]
    }
   ],
   "source": [
    "student[\"name\"] = \"Aditi2\"\n",
    "print(student)\n",
    "print(student_copy)    # in 'student_copy' the value for 'name' key also gets updated!!!!"
   ]
  },
  {
   "cell_type": "code",
   "execution_count": 30,
   "metadata": {},
   "outputs": [
    {
     "name": "stdout",
     "output_type": "stream",
     "text": [
      "{'name': 'Aditi2', 'age': 18, 'Address': 'Bharat'}\n",
      "{'name': 'Aditi2', 'age': 18, 'Address': 'Bharat'}\n",
      "{'name': 'Aditi', 'age': 18, 'Address': 'Bharat'}\n",
      "{'name': 'Aditi2', 'age': 18, 'Address': 'Bharat'}\n"
     ]
    }
   ],
   "source": [
    "# To get rid of this problem we use shallow copy\n",
    "\n",
    "student_copy1 = student.copy()    # shallow copy\n",
    "print(student_copy1)\n",
    "print(student)\n",
    "\n",
    "student[\"name\"] = \"Aditi\"\n",
    "print(student)\n",
    "print(student_copy1)  "
   ]
  },
  {
   "cell_type": "markdown",
   "metadata": {},
   "source": [
    "Shallow copy provides a different memory location so that when we change a variable in a dictionary, it should not impact on the copied dictionary"
   ]
  },
  {
   "cell_type": "markdown",
   "metadata": {},
   "source": [
    "# Iterating over dictionaries"
   ]
  },
  {
   "cell_type": "code",
   "execution_count": 43,
   "metadata": {},
   "outputs": [
    {
     "name": "stdout",
     "output_type": "stream",
     "text": [
      "############# KEYS:\n",
      "name\n",
      "age\n",
      "Address\n",
      "-------------------\n",
      "############# VALUES:\n",
      "Aditi\n",
      "18\n",
      "Bharat\n",
      "-------------------\n",
      "############# KEY-VALUE PAIRS:\n",
      "name : Aditi\n",
      "age : 18\n",
      "Address : Bharat\n"
     ]
    }
   ],
   "source": [
    "# using loops\n",
    "print(\"############# KEYS:\")\n",
    "for keys in student.keys():\n",
    "    print(keys)\n",
    "print(\"-------------------\")\n",
    "print(\"############# VALUES:\")\n",
    "for values in student.values():\n",
    "    print(values)\n",
    "print(\"-------------------\")\n",
    "print(\"############# KEY-VALUE PAIRS:\")\n",
    "for key,value in student.items():\n",
    "    print(f\"{key} : {value}\")\n"
   ]
  },
  {
   "cell_type": "markdown",
   "metadata": {},
   "source": [
    "# Nested Dictionaries"
   ]
  },
  {
   "cell_type": "code",
   "execution_count": 44,
   "metadata": {},
   "outputs": [
    {
     "name": "stdout",
     "output_type": "stream",
     "text": [
      "{'student1': {'name': 'Aditi', 'age': 18}, 'student2': {'name': 'Barbie', 'age': 18}}\n"
     ]
    }
   ],
   "source": [
    "students = {\n",
    "    \"student1\":{\"name\":\"Aditi\",\"age\":18},\n",
    "    \"student2\":{\"name\":\"Barbie\",\"age\":18}\n",
    "}\n",
    "print(students)"
   ]
  },
  {
   "cell_type": "code",
   "execution_count": 46,
   "metadata": {},
   "outputs": [
    {
     "name": "stdout",
     "output_type": "stream",
     "text": [
      "Barbie\n",
      "18\n"
     ]
    }
   ],
   "source": [
    "## Access the dictionary items\n",
    "print(students[\"student2\"][\"name\"])\n",
    "print(students[\"student2\"][\"age\"])"
   ]
  },
  {
   "cell_type": "code",
   "execution_count": 47,
   "metadata": {},
   "outputs": [
    {
     "data": {
      "text/plain": [
       "dict_items([('name', 'Aditi'), ('age', 18), ('Address', 'Bharat')])"
      ]
     },
     "execution_count": 47,
     "metadata": {},
     "output_type": "execute_result"
    }
   ],
   "source": [
    "student.items()"
   ]
  },
  {
   "cell_type": "code",
   "execution_count": 49,
   "metadata": {},
   "outputs": [
    {
     "name": "stdout",
     "output_type": "stream",
     "text": [
      "student1:{'name': 'Aditi', 'age': 18}\n",
      "name:Aditi\n",
      "age:18\n",
      "student2:{'name': 'Barbie', 'age': 18}\n",
      "name:Barbie\n",
      "age:18\n"
     ]
    }
   ],
   "source": [
    "# Iterating over nested dictionaries\n",
    "\n",
    "for student_id,student_info in students.items():\n",
    "    print(f\"{student_id}:{student_info}\")\n",
    "    for key,value in student_info.items():\n",
    "        print(f\"{key}:{value}\")"
   ]
  },
  {
   "cell_type": "markdown",
   "metadata": {},
   "source": [
    "# Dictionary comprehension"
   ]
  },
  {
   "cell_type": "code",
   "execution_count": 50,
   "metadata": {},
   "outputs": [
    {
     "name": "stdout",
     "output_type": "stream",
     "text": [
      "{0: 0, 1: 1, 2: 4, 3: 9, 4: 16}\n"
     ]
    }
   ],
   "source": [
    "squares = {x:x**2 for x in range(5)}\n",
    "print(squares)"
   ]
  },
  {
   "cell_type": "code",
   "execution_count": 51,
   "metadata": {},
   "outputs": [
    {
     "name": "stdout",
     "output_type": "stream",
     "text": [
      "{0: 0, 2: 4, 4: 16, 6: 36, 8: 64}\n"
     ]
    }
   ],
   "source": [
    "# condition dictionary comprehensions\n",
    "evens = {x:x**2 for x in range(10) if x%2==0}\n",
    "print(evens)"
   ]
  },
  {
   "cell_type": "markdown",
   "metadata": {},
   "source": [
    "# Pactical Examples"
   ]
  },
  {
   "cell_type": "code",
   "execution_count": 4,
   "metadata": {},
   "outputs": [
    {
     "name": "stdout",
     "output_type": "stream",
     "text": [
      "{1: 3, 2: 5, 3: 2, 4: 3}\n"
     ]
    }
   ],
   "source": [
    "# Use a dictionary to count the frequency of elements in list\n",
    "numbers = [1,1,1,2,2,2,2,2,3,3,4,4,4]\n",
    "frequency = {}\n",
    "\n",
    "for number in numbers:\n",
    "    if number in frequency:\n",
    "        frequency[number]+=1\n",
    "    else:\n",
    "        frequency[number]=1\n",
    "print(frequency)"
   ]
  },
  {
   "cell_type": "code",
   "execution_count": 5,
   "metadata": {},
   "outputs": [
    {
     "name": "stdout",
     "output_type": "stream",
     "text": [
      "{'a': 1, 'b': 3, 'c': 4}\n"
     ]
    }
   ],
   "source": [
    "# Merge 2 dictionary into one\n",
    "dict1 = {\"a\":1,\"b\":2}\n",
    "dict2 = {\"b\":3,\"c\":4}\n",
    "merged_dict = {**dict1,**dict2}\n",
    "print(merged_dict)"
   ]
  }
 ],
 "metadata": {
  "kernelspec": {
   "display_name": "Python 3",
   "language": "python",
   "name": "python3"
  },
  "language_info": {
   "codemirror_mode": {
    "name": "ipython",
    "version": 3
   },
   "file_extension": ".py",
   "mimetype": "text/x-python",
   "name": "python",
   "nbconvert_exporter": "python",
   "pygments_lexer": "ipython3",
   "version": "3.12.3"
  }
 },
 "nbformat": 4,
 "nbformat_minor": 2
}
